{
  "nbformat": 4,
  "nbformat_minor": 0,
  "metadata": {
    "colab": {
      "name": "genRSITables.ipynb",
      "provenance": [],
      "collapsed_sections": []
    },
    "kernelspec": {
      "name": "python3",
      "display_name": "Python 3"
    },
    "language_info": {
      "name": "python"
    }
  },
  "cells": [
    {
      "cell_type": "markdown",
      "metadata": {
        "id": "8_Ch3HDaMi7q"
      },
      "source": [
        "Guide of using financial packages in python\n",
        "https://pythonviz.com/finance/yfinance-download-stock-data/"
      ]
    },
    {
      "cell_type": "markdown",
      "metadata": {
        "id": "0mERIenpOHU5"
      },
      "source": [
        "# Section 0"
      ]
    },
    {
      "cell_type": "code",
      "metadata": {
        "id": "KL_mj2gvMdON",
        "colab": {
          "base_uri": "https://localhost:8080/"
        },
        "collapsed": true,
        "cellView": "form",
        "outputId": "76536375-3a18-4823-91d1-7458b2e0f676"
      },
      "source": [
        "#@title\n",
        "# 安裝包\n",
        "!pip install yfinance"
      ],
      "execution_count": null,
      "outputs": [
        {
          "output_type": "stream",
          "name": "stdout",
          "text": [
            "Collecting yfinance\n",
            "  Downloading yfinance-0.1.67-py2.py3-none-any.whl (25 kB)\n",
            "Requirement already satisfied: pandas>=0.24 in /usr/local/lib/python3.7/dist-packages (from yfinance) (1.1.5)\n",
            "Requirement already satisfied: numpy>=1.15 in /usr/local/lib/python3.7/dist-packages (from yfinance) (1.19.5)\n",
            "Collecting lxml>=4.5.1\n",
            "  Downloading lxml-4.6.4-cp37-cp37m-manylinux_2_17_x86_64.manylinux2014_x86_64.manylinux_2_24_x86_64.whl (6.3 MB)\n",
            "\u001b[K     |████████████████████████████████| 6.3 MB 7.4 MB/s \n",
            "\u001b[?25hRequirement already satisfied: requests>=2.20 in /usr/local/lib/python3.7/dist-packages (from yfinance) (2.23.0)\n",
            "Requirement already satisfied: multitasking>=0.0.7 in /usr/local/lib/python3.7/dist-packages (from yfinance) (0.0.10)\n",
            "Requirement already satisfied: python-dateutil>=2.7.3 in /usr/local/lib/python3.7/dist-packages (from pandas>=0.24->yfinance) (2.8.2)\n",
            "Requirement already satisfied: pytz>=2017.2 in /usr/local/lib/python3.7/dist-packages (from pandas>=0.24->yfinance) (2018.9)\n",
            "Requirement already satisfied: six>=1.5 in /usr/local/lib/python3.7/dist-packages (from python-dateutil>=2.7.3->pandas>=0.24->yfinance) (1.15.0)\n",
            "Requirement already satisfied: idna<3,>=2.5 in /usr/local/lib/python3.7/dist-packages (from requests>=2.20->yfinance) (2.10)\n",
            "Requirement already satisfied: urllib3!=1.25.0,!=1.25.1,<1.26,>=1.21.1 in /usr/local/lib/python3.7/dist-packages (from requests>=2.20->yfinance) (1.24.3)\n",
            "Requirement already satisfied: chardet<4,>=3.0.2 in /usr/local/lib/python3.7/dist-packages (from requests>=2.20->yfinance) (3.0.4)\n",
            "Requirement already satisfied: certifi>=2017.4.17 in /usr/local/lib/python3.7/dist-packages (from requests>=2.20->yfinance) (2021.10.8)\n",
            "Installing collected packages: lxml, yfinance\n",
            "  Attempting uninstall: lxml\n",
            "    Found existing installation: lxml 4.2.6\n",
            "    Uninstalling lxml-4.2.6:\n",
            "      Successfully uninstalled lxml-4.2.6\n",
            "Successfully installed lxml-4.6.4 yfinance-0.1.67\n"
          ]
        }
      ]
    },
    {
      "cell_type": "code",
      "metadata": {
        "id": "pH6nhJXLkJ4_"
      },
      "source": [
        "#@title\n",
        "# 導入包\n",
        "import numpy as np\n",
        "import yfinance as yf\n",
        "import pandas as pd\n",
        "import matplotlib.pyplot as plt\n",
        "from scipy.stats import kurtosis, skew, jarque_bera, ttest_ind\n",
        "from csv import writer"
      ],
      "execution_count": null,
      "outputs": []
    },
    {
      "cell_type": "code",
      "metadata": {
        "id": "KwPulFMSMHFq",
        "cellView": "form"
      },
      "source": [
        "#@title RSI_series(Close, period = 12)\n",
        "def RSI_series(Close, period = 12):\n",
        "  # 整理資料\n",
        "  Chg = Close - Close.shift(1)\n",
        "  Chg_pos = pd.Series(index=Chg.index, data=Chg[Chg>0])\n",
        "  Chg_pos = Chg_pos.fillna(0)\n",
        "  Chg_neg = pd.Series(index=Chg.index, data=-Chg[Chg<0])\n",
        "  Chg_neg = Chg_neg.fillna(0)\n",
        "    \n",
        "  # 計算平均漲跌幅度\n",
        "  up_mean = []\n",
        "  down_mean = []\n",
        "  for i in range(period+1, len(Chg_pos)+1):\n",
        "    up_mean.append(np.mean(Chg_pos.values[i-period:i]))\n",
        "    down_mean.append(np.mean(Chg_neg.values[i-period:i]))\n",
        "    \n",
        "  # 計算 RSI\n",
        "  rsi = []\n",
        "  for i in range(len(up_mean)):\n",
        "    rsi.append( 100 * up_mean[i] / ( up_mean[i] + down_mean[i] ) )\n",
        "  rsi_series = pd.Series(index = Close.index[period:], data = rsi)\n",
        "  \n",
        "  return rsi_series"
      ],
      "execution_count": null,
      "outputs": []
    },
    {
      "cell_type": "code",
      "metadata": {
        "id": "YDTSF-agJzN2",
        "cellView": "form"
      },
      "source": [
        "#@title buy_sell_ls(rsi_series, buy_flag = 30, sell_flag = 70)\n",
        "def buy_sell_ls(rsi_series, buy_flag = 30, sell_flag = 70):\n",
        "  buy_sell = []\n",
        "  buy = True\n",
        "  for i in range(len(rsi_series)-1):\n",
        "    if buy:\n",
        "      if rsi_series[i] < buy_flag:\n",
        "        buy_sell.append(rsi_series.index[i+1])  #index i+1 since signal is delayed, only the next timeframe can the transaction be committed\n",
        "        buy = False\n",
        "    else:\n",
        "      if rsi_series[i] > sell_flag:\n",
        "        buy_sell.append(rsi_series.index[i+1])  #same reason\n",
        "        buy = True\n",
        "  if len(buy_sell) % 2 != 0:  # Make sure buy sell exist in pair\n",
        "    try: buy_sell.pop()\n",
        "    except: pass  # Handles empty list exception\n",
        "\n",
        "  return buy_sell"
      ],
      "execution_count": null,
      "outputs": []
    },
    {
      "cell_type": "code",
      "metadata": {
        "id": "m1UYp_k14axg",
        "cellView": "form"
      },
      "source": [
        "#@title getAllSignals(rsi_series, flag, buy = True\n",
        "def getAllSignals(rsi_series, flag, buy = True):\n",
        "  \"\"\"i, d = [], []\n",
        "  for r in rsi_series.index:\n",
        "    if (buy and rsi_series[r] < flag) or  (buy == False and rsi_series[r] > flag)\n",
        "      d.append(rsi_series[r])\n",
        "      i.append(r)\n",
        "  series = pd.Series(index = i, data = d)\n",
        "  return series\"\"\"\n",
        "  if buy:\n",
        "    return rsi_series[rsi_series < flag]\n",
        "  else:\n",
        "    return rsi_series[rsi_series > flag]"
      ],
      "execution_count": null,
      "outputs": []
    },
    {
      "cell_type": "code",
      "metadata": {
        "id": "4W929VMRIies",
        "cellView": "form"
      },
      "source": [
        "#@title getAllSignalsPrice(Close, series)\n",
        "def getAllSignalsPrice(Close, series):\n",
        "  i, c = [], []\n",
        "  for r in series.index:\n",
        "    i.append(r)\n",
        "    c.append(Close[r])\n",
        "  series = pd.Series(index = i, data = c)\n",
        "  return series"
      ],
      "execution_count": null,
      "outputs": []
    },
    {
      "cell_type": "code",
      "metadata": {
        "id": "aqa9Wx_aKp69",
        "cellView": "form"
      },
      "source": [
        "#@title Plt_template(title, xl, yl)\n",
        "def Plt_template(title, xl, yl):\n",
        "  plt.title(title)\n",
        "  plt.xlabel(xl)\n",
        "  plt.ylabel(yl)\n",
        "  plt.show()\n",
        "  return"
      ],
      "execution_count": null,
      "outputs": []
    },
    {
      "cell_type": "code",
      "metadata": {
        "id": "M4ad9lpVq00F",
        "cellView": "form"
      },
      "source": [
        "#@title PltRSIFig(rsi_series, buy_flag = 70, sell_flag = 30))\n",
        "def PltRSIFig(rsi_series, buy_flag = 70, sell_flag = 30):\n",
        "  plt.figure(figsize=(10,10))\n",
        "  x = rsi_series.index\n",
        "  plt.plot(x, [buy_flag]*len(x), label = 'Buy sinal')\n",
        "  plt.plot(x,[sell_flag]*len(x), label = 'Sell signal')\n",
        "  rsi_series.plot(label = 'RSI')\n",
        "  t = 'Using RSI in Crypoto Currency market, Dataset : yahoofinance 2011-01-01 to 2021-01-01'\n",
        "  plt.legend()\n",
        "  Plt_template(t, 'Date', 'RSI')"
      ],
      "execution_count": null,
      "outputs": []
    },
    {
      "cell_type": "code",
      "metadata": {
        "id": "xw14Rl9BT8fI",
        "cellView": "form"
      },
      "source": [
        "#@title getReturn_ls(Close, buy_sell)\n",
        "def getReturn_ls(Close, buy_sell):\n",
        "  if len(buy_sell) == 0: return # Handles empty list exceotion\n",
        "  buy = True\n",
        "  return_rate = []\n",
        "  p1 = 0\n",
        "  for t in buy_sell:\n",
        "    if buy:\n",
        "      p1 = Close[t]\n",
        "      buy = False\n",
        "    else:\n",
        "      p2 = Close[t]\n",
        "      buy = True\n",
        "      R = (p2 - p1)/p1\n",
        "      return_rate.append(R)\n",
        "  return return_rate\n"
      ],
      "execution_count": null,
      "outputs": []
    },
    {
      "cell_type": "code",
      "metadata": {
        "id": "z3_v_VDvV0ge",
        "cellView": "form"
      },
      "source": [
        "#@title actual_bs(bal, return_ls)\n",
        "#@markdown return profits, pct_change, bal\n",
        "def actual_bs(bal, return_ls):\n",
        "  profits = []\n",
        "  pct_change = []\n",
        "  for R in return_ls:\n",
        "    new_bal = bal * (1+ R)\n",
        "    profits.append(new_bal - bal)\n",
        "    pct_change.append(profits[-1] / bal)\n",
        "    bal = new_bal\n",
        "    #print('R',R, 'bal',bal)\n",
        "  return profits, pct_change, bal\n"
      ],
      "execution_count": null,
      "outputs": []
    },
    {
      "cell_type": "code",
      "metadata": {
        "id": "wuiwxa4zvA99",
        "cellView": "form"
      },
      "source": [
        "#@title PltProfitsFig(title, profit)\n",
        "def PltProfitsFig(title, profit):\n",
        "  plt.figure(figsize=(10,10))\n",
        "  plt.bar(range(len(profit)), profit)\n",
        "  print(\"Mean of profit:\", np.mean(profit))\n",
        "  print(\"Std of profit:\", np.std(profit))\n",
        "  Plt_template(title, 'RSI Trade cases', 'Profit')"
      ],
      "execution_count": null,
      "outputs": []
    },
    {
      "cell_type": "code",
      "metadata": {
        "id": "GfpdPVC0wkd2",
        "cellView": "form"
      },
      "source": [
        "#@title pltInfluence(xlabel, ylabel, lo, up, v_idx)\n",
        "#@markdown v = [period, buy_flasg, sell_flag]\n",
        "def pltInfluence(xlabel, ylabel, lo, up, v_idx):\n",
        "  v = [period, buy_flag, sell_flag]\n",
        "  result, params = [], []\n",
        "  for i in np.arange(lo, up, 1):\n",
        "    v[v_idx] = i\n",
        "    bs = buy_sell_ls(RSI_series(Close, period = v[0]), buy_flag = v[1], sell_flag = v[2])\n",
        "    profit_i, rr_i = bs_strategy(ac, bs, Close)\n",
        "    result.append(np.mean(rr_i))\n",
        "    params.append(i)\n",
        "  plt.plot(params, result)\n",
        "  plt.xlabel(xlabel)\n",
        "  plt.ylabel(ylabel)\n",
        "  plt.title('Dataset : yahoofinance')\n",
        "  plt.show()\n",
        "  return"
      ],
      "execution_count": null,
      "outputs": []
    },
    {
      "cell_type": "code",
      "metadata": {
        "cellView": "form",
        "id": "1wk7iponK9Kg"
      },
      "source": [
        "#@title\n",
        "def sumPrice(data):\n",
        "  return data.groupby(pd.Grouper(freq='M')).sum()"
      ],
      "execution_count": null,
      "outputs": []
    },
    {
      "cell_type": "code",
      "metadata": {
        "id": "JlmLstLPz0DM",
        "cellView": "form"
      },
      "source": [
        "#@title get_x_day_Return(series, x = 1)\n",
        "def get_x_day_Return(series, x = 1):\n",
        "  i, d = [], []\n",
        "  for r in range(0,len(series)-x,x):\n",
        "    d.append(np.log(series[r+x]/series[r]))\n",
        "    i.append(series.index[r])\n",
        "  s = pd.Series(index = i, data = d)\n",
        "  return s"
      ],
      "execution_count": null,
      "outputs": []
    },
    {
      "cell_type": "code",
      "metadata": {
        "id": "NutN-Jh7Gjt3",
        "cellView": "form"
      },
      "source": [
        "#@title get_cond_x_day_Return(rsi, Close, buy_flag, sell_flag, x = 10)\n",
        "def get_cond_x_day_Return(rsi, Close, buy_flag, sell_flag, x = 10):\n",
        "  bi, si, b, s = [], [], [], []\n",
        "  r = 0\n",
        "  while r < len(rsi)-1-x:\n",
        "    if rsi[r] < buy_flag:\n",
        "      b.append(np.log(Close[rsi.index[r+1+x]]/Close[rsi.index[r+1]]))\n",
        "      bi.append(rsi.index[r])\n",
        "      r = r + x\n",
        "    elif rsi[r] > sell_flag:\n",
        "      s.append(np.log(Close[rsi.index[r+1+x]]/Close[rsi.index[r+1]]))\n",
        "      si.append(rsi.index[r])\n",
        "      r = r + x\n",
        "    r += 1\n",
        "  print(len(b), len(bi), len(s), len(si))\n",
        "  bs = pd.Series(index = bi, data = b)\n",
        "  ss = pd.Series(index = si, data = s)\n",
        "  return bs, ss"
      ],
      "execution_count": null,
      "outputs": []
    },
    {
      "cell_type": "code",
      "metadata": {
        "id": "x_TOmoK-yaCv",
        "cellView": "form"
      },
      "source": [
        "#@title getAll6(return_series)\n",
        "def getAll6(return_series):\n",
        "  x_R = return_series\n",
        "  N = len(x_R)\n",
        "  m = np.mean(x_R)\n",
        "  std = np.std(x_R)\n",
        "  skewness = skew(x_R)\n",
        "  ex_kurt = kurtosis(x_R)\n",
        "  JB = jarque_bera(x_R)\n",
        "  return N, m, std, skewness, ex_kurt, JB"
      ],
      "execution_count": null,
      "outputs": []
    },
    {
      "cell_type": "markdown",
      "metadata": {
        "id": "sdtv92FAOlxw"
      },
      "source": [
        "# Section 1 intialization"
      ]
    },
    {
      "cell_type": "code",
      "metadata": {
        "id": "L6DacqE0xxJl"
      },
      "source": [
        "# parameters\n",
        "cc = 'BTC-USD'\n",
        "stock = '^HSI'\n",
        "start_date = '2014-10-01'\n",
        "end_date = '2021-11-01'\n",
        "sell_flag = 65\n",
        "buy_flag = 35\n",
        "period = 12"
      ],
      "execution_count": null,
      "outputs": []
    },
    {
      "cell_type": "code",
      "metadata": {
        "colab": {
          "base_uri": "https://localhost:8080/"
        },
        "id": "HuOVqy9XkSeS",
        "collapsed": true,
        "outputId": "d59a5c57-af28-4351-cbc6-bfd1b22eff3b"
      },
      "source": [
        "#data is from the first market we want to study, like Cryptocurrency market\n",
        "data = yf.download(cc, start = start_date, end = end_date)\n",
        "Close = data.Close"
      ],
      "execution_count": null,
      "outputs": [
        {
          "output_type": "stream",
          "name": "stdout",
          "text": [
            "\r[*********************100%***********************]  1 of 1 completed\n"
          ]
        }
      ]
    },
    {
      "cell_type": "code",
      "metadata": {
        "id": "1GErPiUsae8J",
        "cellView": "form"
      },
      "source": [
        "#@title\n",
        "def rowGen(c1, series):\n",
        "  row = [c1] + [len(series)] + [np.mean(series)] + [np.std(series)] + [skew(series)] + [kurtosis(series)] + [jarque_bera(series)]\n",
        "  return row"
      ],
      "execution_count": null,
      "outputs": []
    },
    {
      "cell_type": "code",
      "metadata": {
        "id": "MXt-kVsocVSe",
        "cellView": "form"
      },
      "source": [
        "#@title\n",
        "def genRSIrows(Bname, Sname, BSname, B30_70, S30_70, xDayReturn):\n",
        "  row2 = rowGen(Bname,B30_70) + [str(ttest_ind(B30_70, xDayReturn)[0]) +' ' + str(ttest_ind(B30_70, xDayReturn)[1])]\n",
        "  row3 = rowGen(Sname,S30_70) + [str(ttest_ind(S30_70, xDayReturn)[0]) +' ' + str(ttest_ind(S30_70, xDayReturn)[1])]\n",
        "  row4 = [BSname]+['NA'] + ['NA'] + ['NA'] + ['NA'] + ['NA'] + ['NA']  + [str(ttest_ind(B30_70, S30_70)[0]) +' ' + str(ttest_ind(B30_70, S30_70)[1])]\n",
        "  return row2, row3, row4"
      ],
      "execution_count": null,
      "outputs": []
    },
    {
      "cell_type": "code",
      "metadata": {
        "id": "BbMF2bzYTZ27",
        "cellView": "form"
      },
      "source": [
        "#@title\n",
        "def getTable(Close, x, T, marketName):\n",
        "  xDayReturn = get_x_day_Return(Close, x)\n",
        "  rsi_T = RSI_series(Close, period = T)\n",
        "  B30_70, S30_70 = get_cond_x_day_Return(rsi_T, Close, 30, 70, x)\n",
        "  B20_80, S20_80 = get_cond_x_day_Return(rsi_T, Close, 20, 80, x)\n",
        "  B40_60, S40_60 = get_cond_x_day_Return(rsi_T, Close, 40, 60, x)\n",
        "  fileName = marketName + str(x) +'-day-return_RSI' + str(T) +'.csv'\n",
        "  headers = ['','N','Mean','Std','Skew','Ex_kurt','JB','t']\n",
        "  with open(fileName, 'w', newline='') as f_object:\n",
        "    writer_object = writer(f_object)\n",
        "    writer_object.writerow(headers)\n",
        "    row1 = rowGen(str(x)+'-Day',xDayReturn) + ['NA']\n",
        "    row2, row3, row4 = genRSIrows('B(30,70)', 'S(30,70)', 'B-S(30,70)', B30_70, S30_70, xDayReturn)\n",
        "    row5, row6, row7 = genRSIrows('B(20,80)', 'S(20,80)', 'B-S(20,80)', B20_80, S20_80, xDayReturn)\n",
        "    row8, row9, row10 = genRSIrows('B(40,60)', 'S(40,60)', 'B-S(40,60)', B40_60, S40_60, xDayReturn)\n",
        "    writer_object.writerow(row1)\n",
        "    writer_object.writerow(row2)\n",
        "    writer_object.writerow(row3)\n",
        "    writer_object.writerow(row4)\n",
        "    writer_object.writerow(row5)\n",
        "    writer_object.writerow(row6)\n",
        "    writer_object.writerow(row7)\n",
        "    writer_object.writerow(row8)\n",
        "    writer_object.writerow(row9)\n",
        "    writer_object.writerow(row10)\n",
        "  f_object.close()\n",
        "  return"
      ],
      "execution_count": null,
      "outputs": []
    },
    {
      "cell_type": "code",
      "metadata": {
        "colab": {
          "base_uri": "https://localhost:8080/"
        },
        "id": "BOstE0kPeOiK",
        "outputId": "cf267c45-6077-400c-ce6c-3f1d6a8e117c"
      },
      "source": [
        "getTable(Close, 10, 14, 'BTC')\n",
        "getTable(Close, 7, 14, 'BTC')\n",
        "getTable(Close, 14, 14, 'BTC')\n",
        "getTable(Close, 10, 7, 'BTC')\n",
        "getTable(Close, 7, 7, 'BTC')\n",
        "getTable(Close, 14, 7, 'BTC')\n",
        "getTable(Close, 10, 21, 'BTC')\n",
        "getTable(Close, 7, 21, 'BTC')\n",
        "getTable(Close, 14, 21, 'BTC')"
      ],
      "execution_count": null,
      "outputs": [
        {
          "output_type": "stream",
          "name": "stdout",
          "text": [
            "54 54 85 85\n",
            "21 21 55 55\n",
            "85 85 119 119\n",
            "63 63 111 111\n",
            "21 21 62 62\n",
            "108 108 163 163\n",
            "47 47 64 64\n",
            "17 17 47 47\n",
            "62 62 93 93\n",
            "81 81 116 116\n",
            "58 58 101 101\n",
            "98 98 123 123\n",
            "95 95 159 159\n",
            "74 74 123 123\n",
            "129 129 173 173\n",
            "61 61 87 87\n",
            "52 52 76 76\n",
            "72 72 93 93\n",
            "32 32 73 73\n",
            "9 9 31 31\n",
            "76 76 114 114\n",
            "38 38 89 89\n",
            "9 9 34 34\n",
            "96 96 152 152\n",
            "27 27 58 58\n",
            "7 7 27 27\n",
            "59 59 87 87\n"
          ]
        }
      ]
    },
    {
      "cell_type": "code",
      "metadata": {
        "colab": {
          "base_uri": "https://localhost:8080/"
        },
        "id": "Wn9wLQ4qDxcU",
        "collapsed": true,
        "outputId": "5b909367-6b61-46cb-c668-8acd20250ed5"
      },
      "source": [
        "data2 = yf.download(stock, start = '2014-10-01', end = '2021-11-01')\n",
        "Close2 = data2.Close"
      ],
      "execution_count": null,
      "outputs": [
        {
          "output_type": "stream",
          "name": "stdout",
          "text": [
            "\r[*********************100%***********************]  1 of 1 completed\n"
          ]
        }
      ]
    },
    {
      "cell_type": "code",
      "metadata": {
        "colab": {
          "base_uri": "https://localhost:8080/"
        },
        "id": "u2XfATmyhH0y",
        "outputId": "fa4e5674-ce35-4a91-bcff-2a0c03536f68"
      },
      "source": [
        "print(Close)\n",
        "print(Close2)"
      ],
      "execution_count": null,
      "outputs": [
        {
          "output_type": "stream",
          "name": "stdout",
          "text": [
            "Date\n",
            "2014-10-01      383.614990\n",
            "2014-10-02      375.071991\n",
            "2014-10-03      359.511993\n",
            "2014-10-04      328.865997\n",
            "2014-10-05      320.510010\n",
            "                  ...     \n",
            "2021-10-28    60622.136719\n",
            "2021-10-29    62227.964844\n",
            "2021-10-30    61888.832031\n",
            "2021-10-31    61318.957031\n",
            "2021-11-01    61004.406250\n",
            "Name: Close, Length: 2585, dtype: float64\n",
            "Date\n",
            "2014-10-03    23064.560547\n",
            "2014-10-06    23315.039062\n",
            "2014-10-07    23422.519531\n",
            "2014-10-08    23263.330078\n",
            "2014-10-09    23534.529297\n",
            "                  ...     \n",
            "2021-10-25    26132.029297\n",
            "2021-10-26    26038.269531\n",
            "2021-10-27    25628.740234\n",
            "2021-10-28    25555.730469\n",
            "2021-10-29    25377.240234\n",
            "Name: Close, Length: 1743, dtype: float64\n"
          ]
        }
      ]
    },
    {
      "cell_type": "code",
      "metadata": {
        "colab": {
          "base_uri": "https://localhost:8080/"
        },
        "id": "SwB1cI6ognlu",
        "outputId": "d494be80-b247-49ba-ee3d-472e405f67a0"
      },
      "source": [
        "getTable(Close2, 10, 14, 'HSI')\n",
        "getTable(Close2, 7, 14, 'HSI')\n",
        "getTable(Close2, 14, 14, 'HSI')\n",
        "getTable(Close2, 10, 7, 'HSI')\n",
        "getTable(Close2, 7, 7, 'HSI')\n",
        "getTable(Close2, 14, 7, 'HSI')\n",
        "getTable(Close2, 10, 21, 'HSI')\n",
        "getTable(Close2, 7, 21, 'HSI')\n",
        "getTable(Close2, 14, 21, 'HSI')"
      ],
      "execution_count": null,
      "outputs": [
        {
          "output_type": "stream",
          "name": "stdout",
          "text": [
            "36 36 48 48\n",
            "13 13 23 23\n",
            "57 57 78 78\n",
            "42 42 60 60\n",
            "16 16 26 26\n",
            "78 78 95 95\n",
            "32 32 37 37\n",
            "10 10 20 20\n",
            "43 43 59 59\n",
            "58 58 67 67\n",
            "36 36 57 57\n",
            "73 73 75 75\n",
            "72 72 96 96\n",
            "41 41 79 79\n",
            "99 99 105 105\n",
            "47 47 52 52\n",
            "31 31 48 48\n",
            "43 43 67 67\n",
            "15 15 29 29\n",
            "4 4 10 10\n",
            "53 53 63 63\n",
            "18 18 37 37\n",
            "5 5 10 10\n",
            "65 65 82 82\n",
            "15 15 26 26\n",
            "4 4 8 8\n",
            "42 42 49 49\n"
          ]
        }
      ]
    },
    {
      "cell_type": "code",
      "metadata": {
        "colab": {
          "base_uri": "https://localhost:8080/"
        },
        "id": "gLXCOGx2kUSI",
        "outputId": "295d129e-4b22-4d1f-9b30-189439332576"
      },
      "source": [
        "getTable(Close, 1, 14, 'BTC')\n",
        "getTable(Close2, 1, 14, 'HSI')"
      ],
      "execution_count": null,
      "outputs": [
        {
          "output_type": "stream",
          "name": "stdout",
          "text": [
            "141 141 314 314\n",
            "43 43 158 158\n",
            "332 332 546 546\n",
            "104 104 158 158\n",
            "31 31 60 60\n",
            "235 235 299 299\n"
          ]
        }
      ]
    }
  ]
}